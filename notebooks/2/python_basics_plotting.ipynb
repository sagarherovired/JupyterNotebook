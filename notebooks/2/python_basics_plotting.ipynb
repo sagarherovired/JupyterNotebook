{
 "cells": [
  {
   "cell_type": "markdown",
   "id": "680a562e",
   "metadata": {},
   "source": [
    "# Python Basics and Plotting\n",
    "This notebook covers basic Python syntax and plotting using `matplotlib` and `pandas`."
   ]
  },
  {
   "cell_type": "markdown",
   "id": "927699aa",
   "metadata": {},
   "source": [
    "## Basic Python Examples"
   ]
  },
  {
   "cell_type": "code",
   "execution_count": null,
   "id": "3fcfae43",
   "metadata": {},
   "outputs": [],
   "source": [
    "# Variable assignment\n",
    "x = 10\n",
    "y = 5\n",
    "print(\"Sum:\", x + y)\n",
    "print(\"Product:\", x * y)\n",
    "\n",
    "# Loop\n",
    "for i in range(5):\n",
    "    print(\"Iteration:\", i)\n",
    "\n",
    "# Function\n",
    "def greet(name):\n",
    "    return f\"Hello, {name}!\"\n",
    "\n",
    "print(greet(\"World\"))"
   ]
  },
  {
   "cell_type": "markdown",
   "id": "0c3b42c1",
   "metadata": {},
   "source": [
    "## Importing Libraries"
   ]
  },
  {
   "cell_type": "code",
   "execution_count": null,
   "id": "8996a8c2",
   "metadata": {},
   "outputs": [],
   "source": [
    "import numpy as np\n",
    "import pandas as pd\n",
    "import matplotlib.pyplot as plt\n",
    "\n",
    "# To display plots in the notebook\n",
    "%matplotlib inline"
   ]
  },
  {
   "cell_type": "markdown",
   "id": "d17770d2",
   "metadata": {},
   "source": [
    "## Creating and Plotting Data"
   ]
  },
  {
   "cell_type": "code",
   "execution_count": null,
   "id": "01a26893",
   "metadata": {},
   "outputs": [],
   "source": [
    "# Create sample data\n",
    "data = {\n",
    "    'Fruits': ['Apple', 'Banana', 'Cherry', 'Date'],\n",
    "    'Quantity': [10, 15, 7, 12]\n",
    "}\n",
    "df = pd.DataFrame(data)\n",
    "\n",
    "# Display the data\n",
    "print(df)\n",
    "\n",
    "# Plot bar chart\n",
    "plt.figure(figsize=(8,5))\n",
    "plt.bar(df['Fruits'], df['Quantity'], color='skyblue')\n",
    "plt.title('Fruit Quantity')\n",
    "plt.xlabel('Fruit')\n",
    "plt.ylabel('Quantity')\n",
    "plt.grid(True)\n",
    "plt.show()"
   ]
  }
 ],
 "metadata": {},
 "nbformat": 4,
 "nbformat_minor": 5
}
